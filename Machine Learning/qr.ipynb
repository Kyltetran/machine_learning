{
 "cells": [
  {
   "cell_type": "code",
   "execution_count": 1,
   "metadata": {},
   "outputs": [
    {
     "name": "stdout",
     "output_type": "stream",
     "text": [
      "qrcode.png\n"
     ]
    }
   ],
   "source": [
    "import qrcode\n",
    "\n",
    "# URL you want to convert into a QR code\n",
    "url = 'https://forms.gle/fGm8sD3YDJiTzDqz6'\n",
    "\n",
    "# Generate QR code\n",
    "qr = qrcode.QRCode(\n",
    "    version=1,\n",
    "    error_correction=qrcode.constants.ERROR_CORRECT_L,\n",
    "    box_size=10,\n",
    "    border=4,\n",
    ")\n",
    "qr.add_data(url)\n",
    "qr.make(fit=True)\n",
    "\n",
    "# Create an image from the QR Code instance\n",
    "img = qr.make_image(fill_color='#00196E', back_color='white')\n",
    "\n",
    "# Save it somewhere, change the path as needed\n",
    "img.save('qrcode.png')\n",
    "\n",
    "print(\"qrcode.png\")\n"
   ]
  }
 ],
 "metadata": {
  "kernelspec": {
   "display_name": "Python 3",
   "language": "python",
   "name": "python3"
  },
  "language_info": {
   "codemirror_mode": {
    "name": "ipython",
    "version": 3
   },
   "file_extension": ".py",
   "mimetype": "text/x-python",
   "name": "python",
   "nbconvert_exporter": "python",
   "pygments_lexer": "ipython3",
   "version": "3.11.5"
  },
  "orig_nbformat": 4
 },
 "nbformat": 4,
 "nbformat_minor": 2
}
