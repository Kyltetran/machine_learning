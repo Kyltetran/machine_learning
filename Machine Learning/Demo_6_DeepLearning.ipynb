{
  "cells": [
    {
      "cell_type": "markdown",
      "metadata": {
        "id": "reXlp2wVTo-I"
      },
      "source": [
        "# Building a Deep Neural Network to solve MNIST classification problem"
      ]
    },
    {
      "cell_type": "markdown",
      "metadata": {
        "id": "fwlEKcyCT6Zt"
      },
      "source": [
        "MNIST dataset (https://www.tensorflow.org/datasets/catalog/mnist) consists of 70,000 black-white images of the size 28x28x1 and in 10 classes which are hand-written digits. There are 60,000 training images and 10,000 test images.\n",
        "\n",
        "Here follows some data samples in the dataset:\n",
        "\n",
        "![alt text](https://storage.googleapis.com/tfds-data/visualization/fig/mnist-3.0.1.png)"
      ]
    },
    {
      "cell_type": "code",
      "execution_count": 1,
      "metadata": {
        "id": "Gh1ZVWaBTUxH"
      },
      "outputs": [],
      "source": [
        "# Import libraries\n",
        "import numpy as np\n",
        "import tensorflow as tf\n",
        "import keras              # Keras is the high-level API of TensorFlow"
      ]
    },
    {
      "cell_type": "code",
      "execution_count": 2,
      "metadata": {
        "colab": {
          "base_uri": "https://localhost:8080/"
        },
        "id": "ChmmXQ3wTgUs",
        "outputId": "96f172df-f170-4ee7-f651-788c468a58c1"
      },
      "outputs": [
        {
          "name": "stdout",
          "output_type": "stream",
          "text": [
            "Downloading data from https://storage.googleapis.com/tensorflow/tf-keras-datasets/mnist.npz\n",
            "11490434/11490434 [==============================] - 0s 0us/step\n",
            "Train shape: X_train = (60000, 28, 28), y_train = (60000,)\n",
            "Test shape: X_test = (10000, 28, 28), y_test = (10000,)\n"
          ]
        }
      ],
      "source": [
        "# Load the cifar10 dataset and split train/test\n",
        "(X_train, y_train), (X_test, y_test) = tf.keras.datasets.mnist.load_data()\n",
        "\n",
        "print(\"Train shape: X_train = \" + str(X_train.shape) + \", y_train = \" + str(y_train.shape))\n",
        "print(\"Test shape: X_test = \" + str(X_test.shape) + \", y_test = \" + str(y_test.shape))"
      ]
    },
    {
      "cell_type": "code",
      "execution_count": 3,
      "metadata": {
        "colab": {
          "base_uri": "https://localhost:8080/",
          "height": 843
        },
        "id": "T7K3BNmRUSy1",
        "outputId": "62386431-e9ab-44b5-8205-97713ba0cec7"
      },
      "outputs": [
        {
          "data": {
            "image/png": "[encoded data removed]",
            "text/plain": [
              "<Figure size 640x480 with 1 Axes>"
            ]
          },
          "metadata": {},
          "output_type": "display_data"
        },
        {
          "data": {
            "image/png": "[encoded data removed]",
            "text/plain": [
              "<Figure size 640x480 with 1 Axes>"
            ]
          },
          "metadata": {},
          "output_type": "display_data"
        }
      ],
      "source": [
        "# Show some samples in the dataset\n",
        "import matplotlib.pyplot as plt\n",
        "imgplot = plt.imshow(X_train[5], cmap='gray')\n",
        "plt.show()\n",
        "imgplot = plt.imshow(X_test[10], cmap='gray')\n",
        "plt.show()"
      ]
    },
    {
      "cell_type": "code",
      "execution_count": 4,
      "metadata": {
        "colab": {
          "base_uri": "https://localhost:8080/"
        },
        "id": "619lpoesBSdc",
        "outputId": "2a54a62a-fd43-4300-fdb6-bf1080fb1788"
      },
      "outputs": [
        {
          "name": "stdout",
          "output_type": "stream",
          "text": [
            "Train shape: X_train = (54000, 28, 28), y_train = (54000,)\n",
            "Val shape: X_val = (6000, 28, 28), y_val = (6000,)\n",
            "Test shape: X_test = (10000, 28, 28), y_test = (10000,)\n"
          ]
        }
      ],
      "source": [
        "# Split train/valid from the training set\n",
        "from sklearn.model_selection import train_test_split\n",
        "X_train, X_val, y_train, y_val = train_test_split(X_train, y_train, test_size=0.1, random_state=5)\n",
        "\n",
        "print(\"Train shape: X_train = \" + str(X_train.shape) + \", y_train = \" + str(y_train.shape))\n",
        "print(\"Val shape: X_val = \" + str(X_val.shape) + \", y_val = \" + str(y_val.shape))\n",
        "print(\"Test shape: X_test = \" + str(X_test.shape) + \", y_test = \" + str(y_test.shape))"
      ]
    },
    {
      "cell_type": "code",
      "execution_count": 5,
      "metadata": {
        "colab": {
          "base_uri": "https://localhost:8080/",
          "height": 1000
        },
        "id": "0fFHlNybofZi",
        "outputId": "56d09b41-cb17-4dea-e26a-1ab8e6647dd8"
      },
      "outputs": [
        {
          "name": "stdout",
          "output_type": "stream",
          "text": [
            "Label: 1\n",
            "Pixel values: [[  0   0   0   0   0   0   0   0   0   0   0   0   0   0   0   0   0   0\n",
            "    0   0   0   0   0   0   0   0   0   0]\n",
            " [  0   0   0   0   0   0   0   0   0   0   0   0   0   0   0   0   0   0\n",
            "    0   0   0   0   0   0   0   0   0   0]\n",
            " [  0   0   0   0   0   0   0   0   0   0   0   0   0   0   0   0   0   0\n",
            "    0   0   0   0   0   0   0   0   0   0]\n",
            " [  0   0   0   0   0   0   0   0   0   0   0   0   0   0   0   0   0   0\n",
            "    0   0   0   0   0   0   0   0   0   0]\n",
            " [  0   0   0   0   0   0   0   0   0   0   0   0   0   0   0   0   0   0\n",
            "    0   0   0   0   0   0   0   0   0   0]\n",
            " [  0   0   0   0   0   0   0   0   0   0   0   0 173 253 234  30   0   0\n",
            "    0   0   0   0   0   0   0   0   0   0]\n",
            " [  0   0   0   0   0   0   0   0   0   0   0   0 253 252 253  50   0   0\n",
            "    0   0   0   0   0   0   0   0   0   0]\n",
            " [  0   0   0   0   0   0   0   0   0   0   0 102 254 253 254  50   0   0\n",
            "    0   0   0   0   0   0   0   0   0   0]\n",
            " [  0   0   0   0   0   0   0   0   0   0   0 102 253 252 253  91   0   0\n",
            "    0   0   0   0   0   0   0   0   0   0]\n",
            " [  0   0   0   0   0   0   0   0   0   0   0   0 152 253 254 131   0   0\n",
            "    0   0   0   0   0   0   0   0   0   0]\n",
            " [  0   0   0   0   0   0   0   0   0   0   0   0 152 252 253  91   0   0\n",
            "    0   0   0   0   0   0   0   0   0   0]\n",
            " [  0   0   0   0   0   0   0   0   0   0   0   0 132 253 254 151   0   0\n",
            "    0   0   0   0   0   0   0   0   0   0]\n",
            " [  0   0   0   0   0   0   0   0   0   0   0   0  51 252 253 151   0   0\n",
            "    0   0   0   0   0   0   0   0   0   0]\n",
            " [  0   0   0   0   0   0   0   0   0   0   0   0  51 253 254 213   0   0\n",
            "    0   0   0   0   0   0   0   0   0   0]\n",
            " [  0   0   0   0   0   0   0   0   0   0   0   0  51 252 253 252   0   0\n",
            "    0   0   0   0   0   0   0   0   0   0]\n",
            " [  0   0   0   0   0   0   0   0   0   0   0   0  51 253 254 253   0   0\n",
            "    0   0   0   0   0   0   0   0   0   0]\n",
            " [  0   0   0   0   0   0   0   0   0   0   0   0  31 232 253 252   0   0\n",
            "    0   0   0   0   0   0   0   0   0   0]\n",
            " [  0   0   0   0   0   0   0   0   0   0   0   0   0 203 254 253 102   0\n",
            "    0   0   0   0   0   0   0   0   0   0]\n",
            " [  0   0   0   0   0   0   0   0   0   0   0   0   0 203 253 252 102   0\n",
            "    0   0   0   0   0   0   0   0   0   0]\n",
            " [  0   0   0   0   0   0   0   0   0   0   0   0   0 203 254 253 102   0\n",
            "    0   0   0   0   0   0   0   0   0   0]\n",
            " [  0   0   0   0   0   0   0   0   0   0   0   0   0 122 253 252 102   0\n",
            "    0   0   0   0   0   0   0   0   0   0]\n",
            " [  0   0   0   0   0   0   0   0   0   0   0   0  11 132 255 253 103   0\n",
            "    0   0   0   0   0   0   0   0   0   0]\n",
            " [  0   0   0   0   0   0   0   0   0   0   0   0  51 252 253 252 102   0\n",
            "    0   0   0   0   0   0   0   0   0   0]\n",
            " [  0   0   0   0   0   0   0   0   0   0   0   0  21 203 255 253 103   0\n",
            "    0   0   0   0   0   0   0   0   0   0]\n",
            " [  0   0   0   0   0   0   0   0   0   0   0   0   0  61 253 252  61   0\n",
            "    0   0   0   0   0   0   0   0   0   0]\n",
            " [  0   0   0   0   0   0   0   0   0   0   0   0   0   0   0   0   0   0\n",
            "    0   0   0   0   0   0   0   0   0   0]\n",
            " [  0   0   0   0   0   0   0   0   0   0   0   0   0   0   0   0   0   0\n",
            "    0   0   0   0   0   0   0   0   0   0]\n",
            " [  0   0   0   0   0   0   0   0   0   0   0   0   0   0   0   0   0   0\n",
            "    0   0   0   0   0   0   0   0   0   0]]\n"
          ]
        },
        {
          "data": {
            "image/png": "[encoded data removed]",
            "text/plain": [
              "<Figure size 640x480 with 1 Axes>"
            ]
          },
          "metadata": {},
          "output_type": "display_data"
        }
      ],
      "source": [
        "# Show label and pixel values of an image\n",
        "print(\"Label:\", y_train[0])\n",
        "print(\"Pixel values:\", X_train[0])\n",
        "\n",
        "# Show the image\n",
        "imgplot = plt.imshow(X_train[0], cmap='gray')\n",
        "plt.show()"
      ]
    },
    {
      "cell_type": "code",
      "execution_count": 6,
      "metadata": {
        "id": "A0OY2r0FopQm"
      },
      "outputs": [],
      "source": [
        "# Normalize pixel values\n",
        "X_train_norm, X_val_norm, X_test_norm = X_train/255.0, X_val/255.0, X_test/255.0"
      ]
    },
    {
      "cell_type": "markdown",
      "metadata": {
        "id": "WIt2QhyB1T8G"
      },
      "source": [
        "# Solution by using Logistic Regression"
      ]
    },
    {
      "cell_type": "code",
      "execution_count": 7,
      "metadata": {
        "id": "m08kaBQ91_20"
      },
      "outputs": [],
      "source": [
        "### Convert 3D data tensors (batch, width, height) to 2D data tensors (batch, width * height) for training, validation and testing purpose.\n",
        "# Note: The scikit-learn LogisticRegression requires 2D tensors as input, whereas Tensorflow DNN requires 3D tensors as input.\n",
        "\n",
        "# Get batch size\n",
        "num_train_samples = X_train_norm.shape[0]\n",
        "num_val_samples = X_val_norm.shape[0]\n",
        "num_test_samples = X_test_norm.shape[0]\n",
        "\n",
        "# Get width and height\n",
        "img_width = X_train_norm.shape[1]\n",
        "img_height = X_train_norm.shape[2]\n",
        "\n",
        "# Convert from 3D tensors to 2D tensors\n",
        "X_train_norm_2D = X_train_norm.reshape(num_train_samples, img_width * img_height)\n",
        "X_val_norm_2D = X_val_norm.reshape(num_val_samples, img_width * img_height)\n",
        "X_test_norm_2D = X_test_norm.reshape(num_test_samples, img_width * img_height)"
      ]
    },
    {
      "cell_type": "code",
      "execution_count": 8,
      "metadata": {
        "colab": {
          "base_uri": "https://localhost:8080/",
          "height": 214
        },
        "id": "pHyv1p8k1zRY",
        "outputId": "2a2777ce-dd9d-4b61-c0a5-a924fc64c3d2"
      },
      "outputs": [
        {
          "name": "stderr",
          "output_type": "stream",
          "text": [
            "/usr/local/lib/python3.10/dist-packages/sklearn/linear_model/_logistic.py:458: ConvergenceWarning: lbfgs failed to converge (status=1):\n",
            "STOP: TOTAL NO. of ITERATIONS REACHED LIMIT.\n",
            "\n",
            "Increase the number of iterations (max_iter) or scale the data as shown in:\n",
            "    https://scikit-learn.org/stable/modules/preprocessing.html\n",
            "Please also refer to the documentation for alternative solver options:\n",
            "    https://scikit-learn.org/stable/modules/linear_model.html#logistic-regression\n",
            "  n_iter_i = _check_optimize_result(\n"
          ]
        },
        {
          "data": {
            "text/html": [
              "<style>#sk-container-id-1 {color: black;background-color: white;}#sk-container-id-1 pre{padding: 0;}#sk-container-id-1 div.sk-toggleable {background-color: white;}#sk-container-id-1 label.sk-toggleable__label {cursor: pointer;display: block;width: 100%;margin-bottom: 0;padding: 0.3em;box-sizing: border-box;text-align: center;}#sk-container-id-1 label.sk-toggleable__label-arrow:before {content: \"▸\";float: left;margin-right: 0.25em;color: #696969;}#sk-container-id-1 label.sk-toggleable__label-arrow:hover:before {color: black;}#sk-container-id-1 div.sk-estimator:hover label.sk-toggleable__label-arrow:before {color: black;}#sk-container-id-1 div.sk-toggleable__content {max-height: 0;max-width: 0;overflow: hidden;text-align: left;background-color: #f0f8ff;}#sk-container-id-1 div.sk-toggleable__content pre {margin: 0.2em;color: black;border-radius: 0.25em;background-color: #f0f8ff;}#sk-container-id-1 input.sk-toggleable__control:checked~div.sk-toggleable__content {max-height: 200px;max-width: 100%;overflow: auto;}#sk-container-id-1 input.sk-toggleable__control:checked~label.sk-toggleable__label-arrow:before {content: \"▾\";}#sk-container-id-1 div.sk-estimator input.sk-toggleable__control:checked~label.sk-toggleable__label {background-color: #d4ebff;}#sk-container-id-1 div.sk-label input.sk-toggleable__control:checked~label.sk-toggleable__label {background-color: #d4ebff;}#sk-container-id-1 input.sk-hidden--visually {border: 0;clip: rect(1px 1px 1px 1px);clip: rect(1px, 1px, 1px, 1px);height: 1px;margin: -1px;overflow: hidden;padding: 0;position: absolute;width: 1px;}#sk-container-id-1 div.sk-estimator {font-family: monospace;background-color: #f0f8ff;border: 1px dotted black;border-radius: 0.25em;box-sizing: border-box;margin-bottom: 0.5em;}#sk-container-id-1 div.sk-estimator:hover {background-color: #d4ebff;}#sk-container-id-1 div.sk-parallel-item::after {content: \"\";width: 100%;border-bottom: 1px solid gray;flex-grow: 1;}#sk-container-id-1 div.sk-label:hover label.sk-toggleable__label {background-color: #d4ebff;}#sk-container-id-1 div.sk-serial::before {content: \"\";position: absolute;border-left: 1px solid gray;box-sizing: border-box;top: 0;bottom: 0;left: 50%;z-index: 0;}#sk-container-id-1 div.sk-serial {display: flex;flex-direction: column;align-items: center;background-color: white;padding-right: 0.2em;padding-left: 0.2em;position: relative;}#sk-container-id-1 div.sk-item {position: relative;z-index: 1;}#sk-container-id-1 div.sk-parallel {display: flex;align-items: stretch;justify-content: center;background-color: white;position: relative;}#sk-container-id-1 div.sk-item::before, #sk-container-id-1 div.sk-parallel-item::before {content: \"\";position: absolute;border-left: 1px solid gray;box-sizing: border-box;top: 0;bottom: 0;left: 50%;z-index: -1;}#sk-container-id-1 div.sk-parallel-item {display: flex;flex-direction: column;z-index: 1;position: relative;background-color: white;}#sk-container-id-1 div.sk-parallel-item:first-child::after {align-self: flex-end;width: 50%;}#sk-container-id-1 div.sk-parallel-item:last-child::after {align-self: flex-start;width: 50%;}#sk-container-id-1 div.sk-parallel-item:only-child::after {width: 0;}#sk-container-id-1 div.sk-dashed-wrapped {border: 1px dashed gray;margin: 0 0.4em 0.5em 0.4em;box-sizing: border-box;padding-bottom: 0.4em;background-color: white;}#sk-container-id-1 div.sk-label label {font-family: monospace;font-weight: bold;display: inline-block;line-height: 1.2em;}#sk-container-id-1 div.sk-label-container {text-align: center;}#sk-container-id-1 div.sk-container {/* jupyter's `normalize.less` sets `[hidden] { display: none; }` but bootstrap.min.css set `[hidden] { display: none !important; }` so we also need the `!important` here to be able to override the default hidden behavior on the sphinx rendered scikit-learn.org. See: https://github.com/scikit-learn/scikit-learn/issues/21755 */display: inline-block !important;position: relative;}#sk-container-id-1 div.sk-text-repr-fallback {display: none;}</style><div id=\"sk-container-id-1\" class=\"sk-top-container\"><div class=\"sk-text-repr-fallback\"><pre>LogisticRegression()</pre><b>In a Jupyter environment, please rerun this cell to show the HTML representation or trust the notebook. <br />On GitHub, the HTML representation is unable to render, please try loading this page with nbviewer.org.</b></div><div class=\"sk-container\" hidden><div class=\"sk-item\"><div class=\"sk-estimator sk-toggleable\"><input class=\"sk-toggleable__control sk-hidden--visually\" id=\"sk-estimator-id-1\" type=\"checkbox\" checked><label for=\"sk-estimator-id-1\" class=\"sk-toggleable__label sk-toggleable__label-arrow\">LogisticRegression</label><div class=\"sk-toggleable__content\"><pre>LogisticRegression()</pre></div></div></div></div></div>"
            ],
            "text/plain": [
              "LogisticRegression()"
            ]
          },
          "execution_count": 8,
          "metadata": {},
          "output_type": "execute_result"
        }
      ],
      "source": [
        "# Initialize the Logistic Regression model\n",
        "from sklearn.linear_model import LogisticRegression\n",
        "logistic_model = LogisticRegression(max_iter=100)           # Initialize Logistic Regression model\n",
        "logistic_model.fit(X_train_norm_2D, y_train)                # Train the model\n",
        "\n",
        "# Note: there is a ConvergenceWarning because the training set is too big for Logistic Regression."
      ]
    },
    {
      "cell_type": "code",
      "execution_count": 9,
      "metadata": {
        "colab": {
          "base_uri": "https://localhost:8080/"
        },
        "id": "iWgLLF-SMqRZ",
        "outputId": "043b42b9-7b66-4425-da69-975ee211d646"
      },
      "outputs": [
        {
          "data": {
            "text/plain": [
              "array([7, 2, 1, ..., 4, 5, 6], dtype=uint8)"
            ]
          },
          "execution_count": 9,
          "metadata": {},
          "output_type": "execute_result"
        }
      ],
      "source": [
        "# Show prediction results\n",
        "logistic_model.predict(X_test_norm_2D)"
      ]
    },
    {
      "cell_type": "code",
      "execution_count": 10,
      "metadata": {
        "colab": {
          "base_uri": "https://localhost:8080/"
        },
        "id": "35tW_5WWNapQ",
        "outputId": "6450f9e7-4356-4259-af78-cf61336cf263"
      },
      "outputs": [
        {
          "name": "stdout",
          "output_type": "stream",
          "text": [
            "Accuracy: 0.9255\n"
          ]
        }
      ],
      "source": [
        "# Evaluation the model accuracy\n",
        "from sklearn.metrics import accuracy_score\n",
        "print(\"Accuracy:\", accuracy_score(y_test, logistic_model.predict(X_test_norm_2D)))"
      ]
    },
    {
      "cell_type": "markdown",
      "metadata": {
        "id": "dlt8V7vFCeIg"
      },
      "source": [
        "# Solution by using a Deep Neural Network"
      ]
    },
    {
      "cell_type": "code",
      "execution_count": 11,
      "metadata": {
        "colab": {
          "base_uri": "https://localhost:8080/"
        },
        "id": "G-h7ZzZN_zgi",
        "outputId": "30d1c8a2-5512-4089-c128-12237420a5d1"
      },
      "outputs": [
        {
          "name": "stdout",
          "output_type": "stream",
          "text": [
            "Model: \"sequential\"\n",
            "_________________________________________________________________\n",
            " Layer (type)                Output Shape              Param #   \n",
            "=================================================================\n",
            " conv2d (Conv2D)             (None, 28, 28, 32)        320       \n",
            "                                                                 \n",
            " max_pooling2d (MaxPooling2  (None, 14, 14, 32)        0         \n",
            " D)                                                              \n",
            "                                                                 \n",
            " flatten (Flatten)           (None, 6272)              0         \n",
            "                                                                 \n",
            " dense (Dense)               (None, 100)               627300    \n",
            "                                                                 \n",
            " dense_1 (Dense)             (None, 10)                1010      \n",
            "                                                                 \n",
            "=================================================================\n",
            "Total params: 628630 (2.40 MB)\n",
            "Trainable params: 628630 (2.40 MB)\n",
            "Non-trainable params: 0 (0.00 Byte)\n",
            "_________________________________________________________________\n"
          ]
        }
      ],
      "source": [
        "# Import libraries\n",
        "from keras.models import Sequential\n",
        "from keras.layers import Conv2D, Dense, MaxPooling2D, Flatten\n",
        "\n",
        "# Initialize dnn_model as an Sequential model.\n",
        "# A Sequential model is appropriate for a plain stack of layers where each layer has exactly one input tensor and one output tensor.\n",
        "dnn_model = Sequential() # Initialize a sequential model.\n",
        "dnn_model.add(Conv2D(filters=32, input_shape=(28, 28, 1), kernel_size=(3,3), activation='relu', padding='same')) # Add 2D Convolutional layer\n",
        "dnn_model.add(MaxPooling2D((2, 2))) # Add Max Pooling layer\n",
        "dnn_model.add(Flatten()) # Flatten the vector to 1D\n",
        "dnn_model.add(Dense(100, activation='relu')) # Add FC layer and Relu activation\n",
        "dnn_model.add(Dense(10, activation='softmax')) # Add FC layer and Softmax activation for classification\n",
        "\n",
        "#Model Summary\n",
        "dnn_model.summary()"
      ]
    },
    {
      "cell_type": "markdown",
      "metadata": {
        "id": "dqSfXCrhyuiG"
      },
      "source": [
        "# Train and validate the model"
      ]
    },
    {
      "cell_type": "code",
      "execution_count": 12,
      "metadata": {
        "colab": {
          "base_uri": "https://localhost:8080/"
        },
        "id": "WqPbRbwXAsLs",
        "outputId": "b7a4f9e5-380d-4855-f91e-86b1570afbaf"
      },
      "outputs": [
        {
          "name": "stdout",
          "output_type": "stream",
          "text": [
            "Epoch 1/10\n",
            "53/53 [==============================] - 5s 21ms/step - loss: 0.3358 - accuracy: 0.8912 - val_loss: 0.0830 - val_accuracy: 0.9762\n",
            "Epoch 2/10\n",
            "53/53 [==============================] - 1s 11ms/step - loss: 0.0635 - accuracy: 0.9809 - val_loss: 0.0564 - val_accuracy: 0.9845\n",
            "Epoch 3/10\n",
            "53/53 [==============================] - 1s 11ms/step - loss: 0.0376 - accuracy: 0.9883 - val_loss: 0.0504 - val_accuracy: 0.9852\n",
            "Epoch 4/10\n",
            "53/53 [==============================] - 1s 12ms/step - loss: 0.0269 - accuracy: 0.9912 - val_loss: 0.0489 - val_accuracy: 0.9860\n",
            "Epoch 5/10\n",
            "53/53 [==============================] - 1s 14ms/step - loss: 0.0179 - accuracy: 0.9943 - val_loss: 0.0474 - val_accuracy: 0.9873\n",
            "Epoch 6/10\n",
            "53/53 [==============================] - 1s 14ms/step - loss: 0.0097 - accuracy: 0.9972 - val_loss: 0.0436 - val_accuracy: 0.9883\n",
            "Epoch 7/10\n",
            "53/53 [==============================] - 1s 14ms/step - loss: 0.0071 - accuracy: 0.9979 - val_loss: 0.0480 - val_accuracy: 0.9878\n",
            "Epoch 8/10\n",
            "53/53 [==============================] - 1s 12ms/step - loss: 0.0055 - accuracy: 0.9984 - val_loss: 0.0574 - val_accuracy: 0.9870\n",
            "Epoch 9/10\n",
            "53/53 [==============================] - 1s 11ms/step - loss: 0.0057 - accuracy: 0.9984 - val_loss: 0.0517 - val_accuracy: 0.9885\n",
            "Epoch 10/10\n",
            "53/53 [==============================] - 1s 12ms/step - loss: 0.0030 - accuracy: 0.9992 - val_loss: 0.0531 - val_accuracy: 0.9888\n"
          ]
        }
      ],
      "source": [
        "# Compile the model\n",
        "dnn_model.compile(loss = tf.keras.losses.sparse_categorical_crossentropy, # Define loss function\n",
        "                optimizer= tf.keras.optimizers.Adam(learning_rate=1e-2), metrics=['accuracy']) # Define initial learning rate and metrics.\n",
        "\n",
        "# Train the model. Using Colab for training\n",
        "history = dnn_model.fit(X_train_norm, y_train, # Data feature and data label\n",
        "                    batch_size=1024, # Batch size\n",
        "                    epochs=10, # Number of training epochs\n",
        "                    validation_data=(X_val_norm, y_val)) # Validation set"
      ]
    },
    {
      "cell_type": "markdown",
      "metadata": {
        "id": "GdxPI2KxrXSE"
      },
      "source": [
        "There are three popular losses for a classification problem: binary_crossentropy, categorical_crossentropy and sparse_categorical_crossentropy.\n",
        "* The `binary_crossentropy` is used in binary classification tasks. The loss function is:\n",
        "<center>\n",
        "$J = -ylog(\\hat{y})-(1-y)log(1-\\hat{y})$\n",
        "</center>\n",
        "\n",
        "* The `categorical_crossentropy` requires one-hot encoding label. The loss function is:\n",
        "<center>\n",
        "$J=-\\displaystyle\\sum_{i=1}^{N}y_ilog(\\hat{y}_i)$\n",
        "</center>\n",
        "\n",
        "* The `sparse_categorical_crossentropy` requires integer label. This is called sparse since the label representation requires much less space than one-hot encoding. The sparse_categorical_crossentropy works on integers and these integers must be the class indices, not actual values. This loss computes logarithm only for output index which ground truth indicates to. For instance, when model output is [0.1, 0.3, 0.7] and ground truth is 3 (if indexed from 1) then loss compute only logarithm of 0.7. Therefore, the loss function now is:\n",
        "<center>\n",
        "$J=-log(\\hat{y}_i)$\n",
        "</center>"
      ]
    },
    {
      "cell_type": "code",
      "execution_count": 13,
      "metadata": {
        "colab": {
          "base_uri": "https://localhost:8080/",
          "height": 447
        },
        "id": "4ynctBjeFdid",
        "outputId": "7d6bf40c-9e23-4c54-af2f-3b82b46c9105"
      },
      "outputs": [
        {
          "data": {
            "text/plain": [
              "<matplotlib.legend.Legend at 0x7ebb9c152dd0>"
            ]
          },
          "execution_count": 13,
          "metadata": {},
          "output_type": "execute_result"
        },
        {
          "data": {
            "image/png": "[encoded data removed]",
            "text/plain": [
              "<Figure size 640x480 with 2 Axes>"
            ]
          },
          "metadata": {},
          "output_type": "display_data"
        }
      ],
      "source": [
        "# Visualize training and validation performance\n",
        "f,ax=plt.subplots(2,1)\n",
        "\n",
        "# Plot training and validation loss\n",
        "ax[0].plot(history.history['loss'], color='b',label='Training Loss')\n",
        "ax[0].plot(history.history['val_loss'],color='r',label='Validation Loss')\n",
        "\n",
        "# Plot training and validation accuracy\n",
        "ax[1].plot(history.history['accuracy'],color='b',label='Training Accuracy')\n",
        "ax[1].plot(history.history['val_accuracy'],color='r',label='Validation Accuracy')\n",
        "\n",
        "plt.legend()"
      ]
    },
    {
      "cell_type": "code",
      "execution_count": 14,
      "metadata": {
        "colab": {
          "base_uri": "https://localhost:8080/"
        },
        "id": "uS0lGOs0Oeav",
        "outputId": "bf27a630-d064-4e11-e352-0cfd44eda583"
      },
      "outputs": [
        {
          "name": "stdout",
          "output_type": "stream",
          "text": [
            "313/313 [==============================] - 1s 3ms/step - loss: 0.0584 - accuracy: 0.9854\n",
            "['loss', 'accuracy']\n",
            "Loss and accuracy on the test set: loss = 0.058372754603624344, accuracy = 0.9854000210762024\n"
          ]
        }
      ],
      "source": [
        "# Show the model performance\n",
        "result = dnn_model.evaluate(X_test_norm, y_test) # If unspecified, batch_size will default to 32\n",
        "print(dnn_model.metrics_names) # result[0] is loss, result[1] is accuracy. The metrics are defined in dnn_model.complie(...)\n",
        "print(\"Loss and accuracy on the test set: loss = {}, accuracy = {}\".format(result[0],result[1]))"
      ]
    },
    {
      "cell_type": "code",
      "execution_count": 14,
      "metadata": {
        "id": "nb0gb_IsO9SH"
      },
      "outputs": [],
      "source": []
    }
  ],
  "metadata": {
    "accelerator": "GPU",
    "colab": {
      "provenance": []
    },
    "kernelspec": {
      "display_name": "Python 3 (ipykernel)",
      "language": "python",
      "name": "python3"
    },
    "language_info": {
      "codemirror_mode": {
        "name": "ipython",
        "version": 3
      },
      "file_extension": ".py",
      "mimetype": "text/x-python",
      "name": "python",
      "nbconvert_exporter": "python",
      "pygments_lexer": "ipython3",
      "version": "3.8.3"
    }
  },
  "nbformat": 4,
  "nbformat_minor": 0
}
